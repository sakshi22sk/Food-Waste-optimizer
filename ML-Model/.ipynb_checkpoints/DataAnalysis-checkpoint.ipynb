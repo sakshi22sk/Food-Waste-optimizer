{
 "cells": [
  {
   "cell_type": "code",
   "execution_count": 42,
   "id": "0dcdc77a-6725-4fe1-8678-d59870c213a0",
   "metadata": {},
   "outputs": [],
   "source": [
    "import pandas as pd\n",
    "import numpy as np"
   ]
  },
  {
   "cell_type": "code",
   "execution_count": 43,
   "id": "aafd2254-4728-47d4-95b6-2cf91cd1156c",
   "metadata": {},
   "outputs": [],
   "source": [
    "df=pd.read_csv(\"data/food_demand_final.csv\")"
   ]
  },
  {
   "cell_type": "code",
   "execution_count": 44,
   "id": "0e3e8fe9-07f6-476d-ad96-3188488f57c2",
   "metadata": {},
   "outputs": [
    {
     "name": "stdout",
     "output_type": "stream",
     "text": [
      "['City', 'Latitude', 'Longitude', 'Temperature', 'Rainfall', 'Population Growth Factor', 'Holiday', 'Day of Week', 'Unemployment Rate (%)', 'Median Income ($)', 'Food Price Index', 'Inflation Rate (%)', 'Stock Availability (%)', 'Transportation Efficiency (%)', 'Delivery Delays (%)', 'Storage Capacity (%)', 'Humidity (%)', 'Air Quality Index', 'Heatwave', 'Cold Wave', 'Major Event', 'Tourist Influx (%)', 'Food Demand', 'Fuel Prices', 'Holiday Indicator', 'Year', 'Month', 'Day', 'Lag_7', 'Lag_14', 'Lag_30', 'Rolling_Mean_7', 'Rolling_Mean_14', 'EMA_7', 'EMA_14', 'Fourier_7', 'Fourier_14']\n"
     ]
    }
   ],
   "source": [
    "print(df.columns.tolist()) "
   ]
  },
  {
   "cell_type": "code",
   "execution_count": null,
   "id": "fac1e930-9d11-45d3-8c5d-281e378e4866",
   "metadata": {},
   "outputs": [],
   "source": []
  },
  {
   "cell_type": "code",
   "execution_count": 45,
   "id": "876af827-4fb2-4646-a407-f4d07f9b51d2",
   "metadata": {},
   "outputs": [
    {
     "data": {
      "text/plain": [
       "array([4, 3, 0, 2, 6, 5, 7, 8, 1, 9])"
      ]
     },
     "execution_count": 45,
     "metadata": {},
     "output_type": "execute_result"
    }
   ],
   "source": [
    "df['City'].unique()"
   ]
  },
  {
   "cell_type": "code",
   "execution_count": 46,
   "id": "b55dfaf1-802f-4437-b4ae-0b0afc10c3a4",
   "metadata": {},
   "outputs": [
    {
     "data": {
      "text/plain": [
       "array([40.7128, 34.0522, 41.8781, 29.7604, 33.4484, 39.9526, 29.4241,\n",
       "       32.7157, 32.7767, 37.3382])"
      ]
     },
     "execution_count": 46,
     "metadata": {},
     "output_type": "execute_result"
    }
   ],
   "source": [
    "df['Latitude'].unique()"
   ]
  },
  {
   "cell_type": "code",
   "execution_count": 47,
   "id": "813788f8-5c71-4a10-bca2-e62bfd0c293f",
   "metadata": {},
   "outputs": [
    {
     "data": {
      "text/plain": [
       "array([ -74.006 , -118.2437,  -87.6298,  -95.3698, -112.074 ,  -75.1652,\n",
       "        -98.4936, -117.1611,  -96.797 , -121.8863])"
      ]
     },
     "execution_count": 47,
     "metadata": {},
     "output_type": "execute_result"
    }
   ],
   "source": [
    "df['Longitude'].unique()"
   ]
  },
  {
   "cell_type": "code",
   "execution_count": null,
   "id": "b1d7a641-1d94-4d9e-a3e4-90b6acf41c89",
   "metadata": {},
   "outputs": [],
   "source": []
  },
  {
   "cell_type": "code",
   "execution_count": 48,
   "id": "d206ea5e-1401-40a4-a912-3f7c8169e61a",
   "metadata": {},
   "outputs": [
    {
     "name": "stdout",
     "output_type": "stream",
     "text": [
      "41.3 -4.4 45.699999999999996\n"
     ]
    }
   ],
   "source": [
    "tmax=df['Temperature'].max()\n",
    "tmin=df['Temperature'].min()\n",
    "trange = tmax-tmin\n",
    "print(tmax,tmin,trange)\n"
   ]
  },
  {
   "cell_type": "code",
   "execution_count": 49,
   "id": "70ceedab-7985-46ee-85e5-4d9eea416571",
   "metadata": {},
   "outputs": [
    {
     "name": "stdout",
     "output_type": "stream",
     "text": [
      "25.0 -17.0 42.0\n"
     ]
    }
   ],
   "source": [
    "tmax=df['Rainfall'].max()\n",
    "tmin=df['Rainfall'].min()\n",
    "trange = tmax-tmin\n",
    "print(tmax,tmin,trange)"
   ]
  },
  {
   "cell_type": "code",
   "execution_count": 50,
   "id": "8d7b18f3-17a6-467e-a512-a7a8f0be07b6",
   "metadata": {},
   "outputs": [
    {
     "data": {
      "text/plain": [
       "array([1.034, 1.013, 1.01 , 1.02 , 1.016, 1.018, 1.046, 1.044])"
      ]
     },
     "execution_count": 50,
     "metadata": {},
     "output_type": "execute_result"
    }
   ],
   "source": [
    "df['Population Growth Factor'].unique()"
   ]
  },
  {
   "cell_type": "code",
   "execution_count": 51,
   "id": "75ab6981-fb8a-4613-b612-ab0433cfb153",
   "metadata": {},
   "outputs": [],
   "source": [
    "holiday=0"
   ]
  },
  {
   "cell_type": "code",
   "execution_count": 52,
   "id": "454f6c05-838c-4f2d-93d2-6c24694868f2",
   "metadata": {},
   "outputs": [
    {
     "data": {
      "text/plain": [
       "array([1, 2, 3, 4, 5, 6, 0])"
      ]
     },
     "execution_count": 52,
     "metadata": {},
     "output_type": "execute_result"
    }
   ],
   "source": [
    "df['Day of Week'].unique()"
   ]
  },
  {
   "cell_type": "code",
   "execution_count": 53,
   "id": "f49c3afa-d37f-4ad5-b7f6-5427a85f82ad",
   "metadata": {},
   "outputs": [
    {
     "name": "stdout",
     "output_type": "stream",
     "text": [
      "6.471360561507167 6.4441551511540895\n"
     ]
    }
   ],
   "source": [
    "print(df['Unemployment Rate (%)'].mean(),\n",
    "df['Unemployment Rate (%)'].median())\n"
   ]
  },
  {
   "cell_type": "code",
   "execution_count": 54,
   "id": "8ec082b8-bd5c-439f-a9da-cde5231c21eb",
   "metadata": {},
   "outputs": [
    {
     "name": "stdout",
     "output_type": "stream",
     "text": [
      "54888.15721714521 54681.379443175036\n"
     ]
    }
   ],
   "source": [
    "print(df['Median Income ($)'].mean(),\n",
    "df['Median Income ($)'].median())"
   ]
  },
  {
   "cell_type": "code",
   "execution_count": 55,
   "id": "b34062ba-ebcd-4afd-865a-40ceb6983643",
   "metadata": {},
   "outputs": [
    {
     "name": "stdout",
     "output_type": "stream",
     "text": [
      "105.07903277920006 105.13451326721136\n"
     ]
    }
   ],
   "source": [
    "print(df['Food Price Index'].mean(),\n",
    "df['Food Price Index'].median())"
   ]
  },
  {
   "cell_type": "code",
   "execution_count": 56,
   "id": "be152b04-4b3b-4692-bf3f-a2f3f38f0514",
   "metadata": {},
   "outputs": [
    {
     "name": "stdout",
     "output_type": "stream",
     "text": [
      "3.501707100560439 3.503149309704816\n"
     ]
    }
   ],
   "source": [
    "print(df['Inflation Rate (%)'].mean(),\n",
    "df['Inflation Rate (%)'].median())"
   ]
  },
  {
   "cell_type": "code",
   "execution_count": 57,
   "id": "7345b4f1-5800-4a3f-88a2-1a96df0029a4",
   "metadata": {},
   "outputs": [
    {
     "name": "stdout",
     "output_type": "stream",
     "text": [
      "74.88383641292229 74.90832567591417\n"
     ]
    }
   ],
   "source": [
    "print(df['Stock Availability (%)'].mean(),\n",
    "df['Stock Availability (%)'].median())"
   ]
  },
  {
   "cell_type": "code",
   "execution_count": 58,
   "id": "1253e9a3-4890-4672-8b3e-61266a9b5e25",
   "metadata": {},
   "outputs": [
    {
     "name": "stdout",
     "output_type": "stream",
     "text": [
      "84.9290528110625 84.92120650799237\n"
     ]
    }
   ],
   "source": [
    "print(df['Transportation Efficiency (%)'].mean(),\n",
    "df['Transportation Efficiency (%)'].median())"
   ]
  },
  {
   "cell_type": "code",
   "execution_count": 59,
   "id": "0ff9d22a-569f-4ffc-b32a-1bdb8d98487e",
   "metadata": {},
   "outputs": [
    {
     "name": "stdout",
     "output_type": "stream",
     "text": [
      "10.089274519613648 10.15981817308801\n"
     ]
    }
   ],
   "source": [
    "print(df['Delivery Delays (%)'].mean(),\n",
    "df['Delivery Delays (%)'].median())"
   ]
  },
  {
   "cell_type": "code",
   "execution_count": 60,
   "id": "691c3899-742c-453c-aeb0-068f9783d8cd",
   "metadata": {},
   "outputs": [
    {
     "name": "stdout",
     "output_type": "stream",
     "text": [
      "74.83338790649027 75.01376609849987\n"
     ]
    }
   ],
   "source": [
    "print(df['Storage Capacity (%)'].mean(),\n",
    "df['Storage Capacity (%)'].median())"
   ]
  },
  {
   "cell_type": "code",
   "execution_count": 61,
   "id": "e6e8b455-adfc-493b-9994-3c7a1a787b2b",
   "metadata": {},
   "outputs": [
    {
     "name": "stdout",
     "output_type": "stream",
     "text": [
      "89.9957787232003 20.00081443287563 69.99496429032467\n"
     ]
    }
   ],
   "source": [
    "tmax=df['Humidity (%)'].max()\n",
    "tmin=df['Humidity (%)'].min()\n",
    "trange = tmax-tmin\n",
    "print(tmax,tmin,trange)"
   ]
  },
  {
   "cell_type": "code",
   "execution_count": 62,
   "id": "84d140c4-4a86-4900-b97e-f893d675c354",
   "metadata": {},
   "outputs": [
    {
     "name": "stdout",
     "output_type": "stream",
     "text": [
      "199.98872402497648 50.00792403984452 149.98079998513197\n"
     ]
    }
   ],
   "source": [
    "tmax=df['Air Quality Index'].max()\n",
    "tmin=df['Air Quality Index'].min()\n",
    "trange = tmax-tmin\n",
    "print(tmax,tmin,trange)"
   ]
  },
  {
   "cell_type": "code",
   "execution_count": 63,
   "id": "2b7adeae-4338-4423-8661-6f7d2efaa497",
   "metadata": {},
   "outputs": [],
   "source": [
    "Heatwave=0"
   ]
  },
  {
   "cell_type": "code",
   "execution_count": 64,
   "id": "bb384fa2-85ba-4bcb-835a-e18204f635ab",
   "metadata": {},
   "outputs": [],
   "source": [
    "Cold_Wave=0"
   ]
  },
  {
   "cell_type": "code",
   "execution_count": 65,
   "id": "135d1d06-f086-473a-a9b3-a4e49affb768",
   "metadata": {},
   "outputs": [],
   "source": [
    "Major_Event=0"
   ]
  },
  {
   "cell_type": "code",
   "execution_count": null,
   "id": "dcc4fe6d-c851-422b-870c-0c2f6772aa26",
   "metadata": {},
   "outputs": [],
   "source": []
  },
  {
   "cell_type": "code",
   "execution_count": 66,
   "id": "8231e30a-376c-4bf7-81e6-ca4206f40ba5",
   "metadata": {},
   "outputs": [
    {
     "name": "stdout",
     "output_type": "stream",
     "text": [
      "2.6747972441068657 2.5298992229420603\n"
     ]
    }
   ],
   "source": [
    "print(df['Tourist Influx (%)'].mean(),\n",
    "df['Tourist Influx (%)'].median())"
   ]
  },
  {
   "cell_type": "code",
   "execution_count": 67,
   "id": "7cb2ebdc-bfc6-4ce6-a695-f32784bae2d4",
   "metadata": {},
   "outputs": [
    {
     "name": "stdout",
     "output_type": "stream",
     "text": [
      "10.507903277920006 10.513451326721137\n"
     ]
    }
   ],
   "source": [
    "print(df['Fuel Prices'].mean(),\n",
    "df['Fuel Prices'].median())"
   ]
  },
  {
   "cell_type": "code",
   "execution_count": 68,
   "id": "df9ac535-b316-44ed-b9d5-3729780ad2e3",
   "metadata": {},
   "outputs": [],
   "source": [
    "Holiday_Indicator=0 or 1"
   ]
  },
  {
   "cell_type": "code",
   "execution_count": 69,
   "id": "5cc1a917-50e3-432f-8a73-bdac28cab3a2",
   "metadata": {},
   "outputs": [],
   "source": [
    "Year=2024\n",
    "Month=7\n",
    "Day=15"
   ]
  },
  {
   "cell_type": "code",
   "execution_count": 70,
   "id": "94e504da-0374-4238-8b98-52562dc31e80",
   "metadata": {},
   "outputs": [
    {
     "name": "stdout",
     "output_type": "stream",
     "text": [
      "3451.9689574759946 3372.8\n"
     ]
    }
   ],
   "source": [
    "print(df['Lag_7'].mean(),\n",
    "df['Lag_7'].median())"
   ]
  },
  {
   "cell_type": "code",
   "execution_count": 71,
   "id": "a35c5265-cdb0-4e4b-9cba-cc79368c7b66",
   "metadata": {},
   "outputs": [
    {
     "name": "stdout",
     "output_type": "stream",
     "text": [
      "3452.5349931412898 3373.0\n"
     ]
    }
   ],
   "source": [
    "print(df['Lag_14'].mean(),\n",
    "df['Lag_14'].median())"
   ]
  },
  {
   "cell_type": "code",
   "execution_count": 72,
   "id": "5dff7e65-00e2-494b-af2c-8a2d61e44a84",
   "metadata": {},
   "outputs": [
    {
     "name": "stdout",
     "output_type": "stream",
     "text": [
      "3453.0289574759945 3372.8\n"
     ]
    }
   ],
   "source": [
    "print(df['Lag_30'].mean(),\n",
    "df['Lag_30'].median())"
   ]
  },
  {
   "cell_type": "code",
   "execution_count": 73,
   "id": "564f32ee-15ba-4cdd-a27b-1e04d0d05441",
   "metadata": {},
   "outputs": [
    {
     "name": "stdout",
     "output_type": "stream",
     "text": [
      "3451.9493023711543 3401.2714285714283\n"
     ]
    }
   ],
   "source": [
    "print(df['Rolling_Mean_7'].mean(),\n",
    "df['Rolling_Mean_7'].median())"
   ]
  },
  {
   "cell_type": "code",
   "execution_count": 74,
   "id": "2eeba114-9656-4265-839c-aaf69bb1c121",
   "metadata": {},
   "outputs": [
    {
     "name": "stdout",
     "output_type": "stream",
     "text": [
      "3452.190010777974 3411.7714285714283\n"
     ]
    }
   ],
   "source": [
    "print(df['Rolling_Mean_14'].mean(),\n",
    "df['Rolling_Mean_14'].median())"
   ]
  },
  {
   "cell_type": "code",
   "execution_count": 75,
   "id": "cf3607ec-cd08-450c-baec-1c528bc0118c",
   "metadata": {},
   "outputs": [
    {
     "name": "stdout",
     "output_type": "stream",
     "text": [
      "3451.9633441647557 3407.3185392609103\n"
     ]
    }
   ],
   "source": [
    "print(df['EMA_7'].mean(),\n",
    "df['EMA_7'].median())"
   ]
  },
  {
   "cell_type": "code",
   "execution_count": 76,
   "id": "59d64679-5e13-4671-aff3-37167f3675f9",
   "metadata": {},
   "outputs": [
    {
     "name": "stdout",
     "output_type": "stream",
     "text": [
      "3452.1830476131154 3419.682844080466\n"
     ]
    }
   ],
   "source": [
    "print(df['EMA_14'].mean(),\n",
    "df['EMA_14'].median())"
   ]
  },
  {
   "cell_type": "code",
   "execution_count": 77,
   "id": "6a0b305e-305a-4daf-9972-f41ce2b3c253",
   "metadata": {},
   "outputs": [
    {
     "name": "stdout",
     "output_type": "stream",
     "text": [
      "3452.7904762956546 3453.68401845709\n"
     ]
    }
   ],
   "source": [
    "print(df['Fourier_7'].mean(),\n",
    "df['Fourier_7'].median())"
   ]
  },
  {
   "cell_type": "code",
   "execution_count": 78,
   "id": "00b302e1-2ad3-44ff-84b3-3c6528be8efc",
   "metadata": {},
   "outputs": [
    {
     "name": "stdout",
     "output_type": "stream",
     "text": [
      "3452.7371550279727 3449.976364617123\n"
     ]
    }
   ],
   "source": [
    "print(df['Fourier_14'].mean(),\n",
    "df['Fourier_14'].median())"
   ]
  },
  {
   "cell_type": "code",
   "execution_count": 79,
   "id": "994e844d-17e2-45a1-b2c1-c8899d1ec594",
   "metadata": {},
   "outputs": [],
   "source": [
    "city=5\n",
    "temp=15.17\n",
    "rain=10.67\n",
    "DOW=3\n",
    "humidity=47.49\n",
    "air_qua_ind=102.37\n",
    "holiday=0\n",
    "\n",
    "data_dict = {\n",
    "    'City': city,\n",
    "    'Latitude': 0,\n",
    "    'Longitude': 0,\n",
    "    'Temperature': temp,\n",
    "    'Rainfall': rain,\n",
    "    'Population Growth Factor': 0, \n",
    "    'Holiday': 0,\n",
    "    'Day of Week': DOW,\n",
    "    'Unemployment Rate (%)': 6.471360561507167,\n",
    "    'Median Income ($)': 54888.15721714521,\n",
    "    'Food Price Index': 105.13451326721136,\n",
    "    'Inflation Rate (%)': 3.503149309704816,\n",
    "    'Stock Availability (%)': 74.90832567591417,\n",
    "    'Transportation Efficiency (%)': 84.92120650799237,\n",
    "    'Delivery Delays (%)': 10.15981817308801,\n",
    "    'Storage Capacity (%)': 75.01376609849987,\n",
    "    'Humidity (%)': humidity,\n",
    "    'Air Quality Index': air_qua_ind,\n",
    "    'Heatwave': 0,\n",
    "    'Cold Wave': 0,\n",
    "    'Major Event': 0,\n",
    "    'Tourist Influx (%)': 2.6747972441068657,\n",
    "    'Fuel Prices': 10.513451326721137,\n",
    "    'Holiday Indicator': holiday,\n",
    "    'Year': 2024,\n",
    "    'Month': 7,\n",
    "    'Day': 15,\n",
    "    'Lag_7': 3451.9689574759946,\n",
    "    'Lag_14': 3452.5349931412898,\n",
    "    'Lag_30': 3453.0289574759945 ,\n",
    "    'Rolling_Mean_7': 3451.9493023711543,\n",
    "    'Rolling_Mean_14': 3452.190010777974,\n",
    "    'EMA_7': 3451.9633441647557,\n",
    "    'EMA_14': 3452.1830476131154,\n",
    "    'Fourier_7': 3453.68401845709,\n",
    "    'Fourier_14': 3452.7371550279727\n",
    "}\n",
    "\n",
    "city_latitude_mapping = {\n",
    "    0: 29.7604,  # City 0\n",
    "    1: 32.7767,  # City 1\n",
    "    2: 29.7604,  # City 2\n",
    "    3: 34.0522,  # City 3\n",
    "    4: 40.7128,  # City 4\n",
    "    5: 39.9526,  # City 5\n",
    "    6: 33.4484,  # City 6\n",
    "    7: 29.4241,  # City 7\n",
    "    8: 32.7157,  # City 8\n",
    "    9: 37.3382 # City 9\n",
    "}\n",
    "data_dict['Latitude'] = city_latitude_mapping[city]\n",
    "\n",
    "city_longitude_mapping = {\n",
    "    0: -87.6298,  # City 0\n",
    "    1: -96.797,  # City 1\n",
    "    2: -95.3698,  # City 2\n",
    "    3:-118.2437,  # City 3\n",
    "    4: -74.006,  # City 4\n",
    "    5: -75.1652,  # City 5\n",
    "    6: -112.074,  # City 6\n",
    "    7: -98.4936,  # City 7\n",
    "    8: -117.1611,  # City 8\n",
    "    9:-121.8863  # City 9\n",
    "}\n",
    "data_dict['Longitude'] = city_longitude_mapping[city]\n",
    "\n",
    "city_pgf_mapping = {\n",
    "    0: 1.01,  # City 0\n",
    "    1: 1.046,  # City 1\n",
    "    2: 1.034,  # City 2\n",
    "    3: 1.013,  # City 3\n",
    "    4: 1.034,  # City 4\n",
    "    5: 1.016,  # City 5\n",
    "    6: 1.02,  # City 6\n",
    "    7: 1.016,  # City 7\n",
    "    8: 1.018,  # City 8\n",
    "    9: 1.044  # City 9\n",
    "}\n",
    "data_dict['Population Growth Factor'] = city_pgf_mapping[city]\n",
    "\n",
    "\n",
    "\n",
    "df = pd.DataFrame([data_dict])\n",
    "\n",
    "\n"
   ]
  },
  {
   "cell_type": "code",
   "execution_count": null,
   "id": "34f4ed58-5dc9-4418-b9c1-0c12158de8df",
   "metadata": {},
   "outputs": [],
   "source": []
  }
 ],
 "metadata": {
  "kernelspec": {
   "display_name": "Python (new-env)",
   "language": "python",
   "name": "new-env"
  },
  "language_info": {
   "codemirror_mode": {
    "name": "ipython",
    "version": 3
   },
   "file_extension": ".py",
   "mimetype": "text/x-python",
   "name": "python",
   "nbconvert_exporter": "python",
   "pygments_lexer": "ipython3",
   "version": "3.11.11"
  }
 },
 "nbformat": 4,
 "nbformat_minor": 5
}
